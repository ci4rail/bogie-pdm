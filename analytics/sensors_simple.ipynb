{
 "cells": [
  {
   "cell_type": "code",
   "execution_count": 2,
   "metadata": {},
   "outputs": [],
   "source": [
    "%matplotlib widget\n",
    "%load_ext autoreload\n",
    "%autoreload 2\n",
    "%gui asyncio\n",
    "\n",
    "import sensors_ui.loader as loader\n",
    "import sensors_ui.simple_ui as ui\n",
    "import datetime\n",
    "import matplotlib\n",
    "from account import *\n",
    "matplotlib.rc('font', family='Bahnschrift') \n"
   ]
  },
  {
   "cell_type": "code",
   "execution_count": 10,
   "metadata": {},
   "outputs": [
    {
     "name": "stdout",
     "output_type": "stream",
     "text": [
      "loaded 19 rows\n"
     ]
    },
    {
     "data": {
      "application/vnd.jupyter.widget-view+json": {
       "model_id": "2705701fb5204a6999c17522e4baa4dc",
       "version_major": 2,
       "version_minor": 0
      },
      "text/plain": [
       "SensorsUi(children=(Map(center=[49.44, 11.06], controls=(ZoomControl(options=['position', 'zoom_in_text', 'zoo…"
      ]
     },
     "metadata": {},
     "output_type": "display_data"
    }
   ],
   "source": [
    "%autoreload 2\n",
    "START_TIME =  \"2022-09-07T17:00:00+02:00\"\n",
    "TIME_RANGE = datetime.timedelta(hours=10)\n",
    "\n",
    "start =datetime.datetime.fromisoformat(START_TIME)\n",
    "\n",
    "df = await loader.nats_stream_fetch( SERVER, NATS_CREDS, STREAM_NAME, EXPORT_SUBJECT_SENSORS, start, start + TIME_RANGE)\n",
    "print(\"loaded %d rows\" % df.shape[0])\n",
    "ui.SensorsUi(df)"
   ]
  },
  {
   "cell_type": "code",
   "execution_count": null,
   "metadata": {},
   "outputs": [],
   "source": []
  }
 ],
 "metadata": {
  "kernelspec": {
   "display_name": "Python 3 (ipykernel)",
   "language": "python",
   "name": "python3"
  },
  "language_info": {
   "codemirror_mode": {
    "name": "ipython",
    "version": 3
   },
   "file_extension": ".py",
   "mimetype": "text/x-python",
   "name": "python",
   "nbconvert_exporter": "python",
   "pygments_lexer": "ipython3",
   "version": "3.9.0"
  },
  "vscode": {
   "interpreter": {
    "hash": "81794d4967e6c3204c66dcd87b604927b115b27c00565d3d43f05ba2f3a2cb0d"
   }
  }
 },
 "nbformat": 4,
 "nbformat_minor": 4
}
