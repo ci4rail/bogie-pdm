{
 "cells": [
  {
   "cell_type": "code",
   "execution_count": 5,
   "metadata": {},
   "outputs": [
    {
     "data": {
      "application/vnd.jupyter.widget-view+json": {
       "model_id": "00114552a9054ee998c4a5135762a9d8",
       "version_major": 2,
       "version_minor": 0
      },
      "text/plain": [
       "MetricsUi(children=(Box(children=(DatetimePicker(value=None), Dropdown(description='Time range', index=3, opti…"
      ]
     },
     "metadata": {},
     "output_type": "display_data"
    },
    {
     "name": "stdout",
     "output_type": "stream",
     "text": [
      "load_from_time2022-09-06 08:45:55.219067+02:00\n",
      "from_start_time s=nats://dbs001.edgefarm.dev:4222 c=user.creds stream=bogie-network_export-stream-aggregate subj=agilis-mc-1.EXPORT.metrics st=2022-09-06 08:45:55.219067+02:00\n",
      "start time 2022-09-06T06:45:55.219067Z\n"
     ]
    }
   ],
   "source": [
    "%matplotlib inline\n",
    "%load_ext autoreload\n",
    "%autoreload 2\n",
    "import asyncio\n",
    "import metrics_ui.loader as loader\n",
    "import metrics_ui.ui as ui\n",
    "\n",
    "SERVER=\"nats://dbs001.edgefarm.dev:4222\"\n",
    "EXPORT_SUBJECT = \"agilis-mc-1.EXPORT.metrics\"\n",
    "STREAM_NAME = \"bogie-network_export-stream-aggregate\"\n",
    "NATS_CREDS = \"user.creds\"\n",
    "\n",
    "async def main(queue, ui):\n",
    "    asyncio.create_task(loader.loader(queue, ui, SERVER, NATS_CREDS, STREAM_NAME, EXPORT_SUBJECT))\n",
    "\n",
    "queue = asyncio.Queue()\n",
    "ui = ui.MetricsUi(queue)\n",
    "display(ui)\n",
    "\n",
    "await main(queue, ui)"
   ]
  },
  {
   "cell_type": "code",
   "execution_count": 5,
   "metadata": {},
   "outputs": [
    {
     "name": "stdout",
     "output_type": "stream",
     "text": [
      "from_start_time s=nats://dbs001.edgefarm.dev:4222 c=user.creds stream=bogie-network_export-stream-aggregate subj=agilis-mc-1.EXPORT.metrics st=2022-09-05 22:48:16.408759\n",
      "start time 2022-09-05T20:48:16.408759Z\n"
     ]
    }
   ],
   "source": [
    "import stream.stream as stream\n",
    "import datetime\n",
    "\n",
    "ns = await stream.NatsStream.from_start_time(\n",
    "    SERVER, NATS_CREDS, STREAM_NAME, EXPORT_SUBJECT, datetime.datetime.now() - datetime.timedelta(hours=10)\n",
    ")\n"
   ]
  },
  {
   "cell_type": "code",
   "execution_count": 4,
   "metadata": {},
   "outputs": [
    {
     "ename": "NameError",
     "evalue": "name 'fig' is not defined",
     "output_type": "error",
     "traceback": [
      "\u001b[1;31m---------------------------------------------------------------------------\u001b[0m",
      "\u001b[1;31mNameError\u001b[0m                                 Traceback (most recent call last)",
      "Input \u001b[1;32mIn [4]\u001b[0m, in \u001b[0;36m<cell line: 1>\u001b[1;34m()\u001b[0m\n\u001b[1;32m----> 1\u001b[0m \u001b[43mui\u001b[49m\u001b[38;5;241;43m.\u001b[39;49m\u001b[43mdraw_lte\u001b[49m\u001b[43m(\u001b[49m\u001b[43m)\u001b[49m\n",
      "File \u001b[1;32mD:\\work\\bogie-pdm\\analytics\\metrics_ui\\ui.py:130\u001b[0m, in \u001b[0;36mMetricsUi.draw_lte\u001b[1;34m(self)\u001b[0m\n\u001b[0;32m    128\u001b[0m ax\u001b[38;5;241m.\u001b[39mset_ylabel(\u001b[38;5;124m\"\u001b[39m\u001b[38;5;124mStrength [\u001b[39m\u001b[38;5;124m%\u001b[39m\u001b[38;5;124m]\u001b[39m\u001b[38;5;124m\"\u001b[39m)\n\u001b[0;32m    129\u001b[0m ax\u001b[38;5;241m.\u001b[39mset_xlabel(\u001b[38;5;124m\"\u001b[39m\u001b[38;5;124mTime\u001b[39m\u001b[38;5;124m\"\u001b[39m)\n\u001b[1;32m--> 130\u001b[0m plt\u001b[38;5;241m.\u001b[39mshow(\u001b[43mfig\u001b[49m)\n",
      "\u001b[1;31mNameError\u001b[0m: name 'fig' is not defined"
     ]
    }
   ],
   "source": [
    "ui.draw_lte()\n",
    "\n",
    "\n"
   ]
  },
  {
   "cell_type": "code",
   "execution_count": 2,
   "metadata": {},
   "outputs": [
    {
     "data": {
      "application/vnd.jupyter.widget-view+json": {
       "model_id": "2d101df9c5f2487095eaf22b7b70a7cc",
       "version_major": 2,
       "version_minor": 0
      },
      "text/plain": [
       "Tab(children=(Output(), Output()), selected_index=0, titles=('First', 'Second'))"
      ]
     },
     "metadata": {},
     "output_type": "display_data"
    }
   ],
   "source": [
    "\n",
    "import matplotlib.pyplot as plt\n",
    "import pandas as pd\n",
    "import ipywidgets as widgets\n",
    "import numpy as np\n",
    "\n",
    "out1 = widgets.Output()\n",
    "out2 = widgets.Output()\n",
    "data1 = pd.DataFrame(np.random.normal(size = 50))\n",
    "data2 = pd.DataFrame(np.random.normal(size = 100))\n",
    "\n",
    "tab = widgets.Tab(children = [out1, out2])\n",
    "tab.set_title(0, 'First')\n",
    "tab.set_title(1, 'Second')\n",
    "display(tab)\n",
    "\n",
    "with out1:\n",
    "    fig1, axes1 = plt.subplots()\n",
    "    data1.hist(ax = axes1)\n",
    "    plt.show(fig1)\n",
    "\n",
    "with out2:\n",
    "    fig2, axes2 = plt.subplots()\n",
    "    data2.hist(ax = axes2)\n",
    "    plt.show(fig2)"
   ]
  },
  {
   "cell_type": "code",
   "execution_count": null,
   "metadata": {},
   "outputs": [],
   "source": []
  }
 ],
 "metadata": {
  "kernelspec": {
   "display_name": "Python 3 (ipykernel)",
   "language": "python",
   "name": "python3"
  },
  "language_info": {
   "codemirror_mode": {
    "name": "ipython",
    "version": 3
   },
   "file_extension": ".py",
   "mimetype": "text/x-python",
   "name": "python",
   "nbconvert_exporter": "python",
   "pygments_lexer": "ipython3",
   "version": "3.9.0"
  },
  "vscode": {
   "interpreter": {
    "hash": "81794d4967e6c3204c66dcd87b604927b115b27c00565d3d43f05ba2f3a2cb0d"
   }
  }
 },
 "nbformat": 4,
 "nbformat_minor": 4
}
