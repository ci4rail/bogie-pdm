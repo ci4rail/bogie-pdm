{
 "cells": [
  {
   "cell_type": "code",
   "execution_count": 9,
   "metadata": {},
   "outputs": [
    {
     "data": {
      "application/vnd.jupyter.widget-view+json": {
       "model_id": "d2278f52005c43f9983a53d9c592aebc",
       "version_major": 2,
       "version_minor": 0
      },
      "text/plain": [
       "Map(center=[49.44, 11.06], controls=(ZoomControl(options=['position', 'zoom_in_text', 'zoom_in_title', 'zoom_o…"
      ]
     },
     "metadata": {},
     "output_type": "display_data"
    }
   ],
   "source": [
    "from ipyleaflet import Map, Marker, MarkerCluster, basemaps, WidgetControl, GeoJSON\n",
    "from ipywidgets import HTML, VBox\n",
    "\n",
    "\n",
    "tooltip = HTML(\"abc\")\n",
    "out = VBox([tooltip])\n",
    "control = WidgetControl(widget=tooltip, position='bottomright')\n",
    "\n",
    "def on_hover(feature, **kwargs):\n",
    "    tooltip.value = f\"<br>{feature['properties']['name']}<b></b>\"\n",
    "\n",
    "\n",
    "center = (49.44, 11.06)\n",
    "zoom = 12\n",
    "m = Map(\n",
    "    basemap=basemaps.CartoDB.DarkMatter,\n",
    "    center = center,\n",
    "    zoom = zoom,\n",
    "    interpolation='nearest'\n",
    ")\n",
    "m.add_control(control)\n",
    "\n",
    "geo_json_data = {\n",
    "    \"type\": \"FeatureCollection\",\n",
    "    \"features\": [\n",
    "        {\n",
    "            \"type\": \"Feature\",\n",
    "            \"geometry\": {\n",
    "                \"type\": \"Point\",\n",
    "                \"coordinates\": [11.06, 49.44]\n",
    "            },\n",
    "            \"properties\": {\n",
    "                \"name\": \"Foo\"\n",
    "            }\n",
    "        },\n",
    "        {\n",
    "            \"type\": \"Feature\",\n",
    "            \"geometry\": {\n",
    "                \"type\": \"LineString\",\n",
    "                \"coordinates\": [[11.06, 49.44], [11.07, 49.45]]\n",
    "            },\n",
    "            \"properties\": {\n",
    "                \"name\": \"Bar\"\n",
    "            }\n",
    "        },\n",
    "        {\n",
    "            \"type\": \"Feature\",\n",
    "            \"geometry\": {\n",
    "                \"type\": \"LineString\",\n",
    "                \"coordinates\": [[11.07, 49.44], [11.08, 49.45]]\n",
    "            },\n",
    "            \"properties\": {\n",
    "                \"name\": \"Baz\"\n",
    "            }\n",
    "        }\n",
    "    ]\n",
    "}\n",
    "\n",
    "geo_json = GeoJSON(data=geo_json_data, on_hover=on_hover)\n",
    "m.add_layer(geo_json)\n",
    "\n",
    "geo_json.on_hover(on_hover)\n",
    "m"
   ]
  },
  {
   "cell_type": "code",
   "execution_count": null,
   "metadata": {},
   "outputs": [],
   "source": []
  }
 ],
 "metadata": {
  "kernelspec": {
   "display_name": "Python 3 (ipykernel)",
   "language": "python",
   "name": "python3"
  },
  "language_info": {
   "codemirror_mode": {
    "name": "ipython",
    "version": 3
   },
   "file_extension": ".py",
   "mimetype": "text/x-python",
   "name": "python",
   "nbconvert_exporter": "python",
   "pygments_lexer": "ipython3",
   "version": "3.9.0"
  },
  "vscode": {
   "interpreter": {
    "hash": "81794d4967e6c3204c66dcd87b604927b115b27c00565d3d43f05ba2f3a2cb0d"
   }
  }
 },
 "nbformat": 4,
 "nbformat_minor": 4
}
