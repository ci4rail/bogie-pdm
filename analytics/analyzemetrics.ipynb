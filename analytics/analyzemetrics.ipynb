{
 "cells": [
  {
   "cell_type": "code",
   "execution_count": 1,
   "metadata": {},
   "outputs": [],
   "source": [
    "import ipywidgets as widgets\n",
    "from IPython.display import display\n",
    "import plotly.graph_objects as go\n",
    "import asyncio\n",
    "import pandas as pd\n",
    "import numpy as np\n",
    "import datetime\n",
    "\n",
    "import stream.metricspandas as metricpandas\n",
    "import stream.stream as stream\n",
    "\n",
    "SERVER=\"nats://dbs001.edgefarm.dev:4222\"\n",
    "EXPORT_SUBJECT = \"agilis-mc-1.EXPORT.metrics\"\n",
    "STREAM_NAME = \"bogie-network_export-stream-aggregate\"\n",
    "NATS_CREDS = \"/home/klaus/work/ops.edgefarm-deployments/overlays/edgefarm.dev/dbs001/source/nsc/nkeys/creds/edgefarm_operator/acc3/user.creds\""
   ]
  },
  {
   "cell_type": "code",
   "execution_count": 9,
   "metadata": {},
   "outputs": [
    {
     "name": "stdout",
     "output_type": "stream",
     "text": [
      "start time 2022-09-02T09:52:57.870134Z\n",
      "nats options {'servers': ['nats://dbs001.edgefarm.dev:4222'], 'user_credentials': '/home/klaus/work/ops.edgefarm-deployments/overlays/edgefarm.dev/dbs001/source/nsc/nkeys/creds/edgefarm_operator/acc3/user.creds'}\n",
      "nats_stream_fetch 1\n",
      "message data: b'{\"id\":\"9297eb90-fe15-4bb0-a1d6-cde5b9ea4b55\",\"source\":\"bogie-edge\",\"type\":\"com.dapr.event.sent\",\"traceid\":\"00-a218dd7e8737380b76513f8a6e09838a-9adb5b64ff9c4e23-00\",\"specversion\":\"1.0\",\"datacontenttype\":\"application/octet-stream\",\"topic\":\"agilis-mc-1.EXPORT.metrics\",\"pubsubname\":\"bogie-network\",\"tracestate\":\"\",\"data_base64\":\"CgwI/aTHmAYQn4i51gISNAoYAAAAAHb8Vz8AAAAAdvxXPwAAACBI+18/EhipJyeeKSpDPw1Ik+k/CkI/62qlJByQRj8aEQgBFUK5RUId5CQxQS1SuB4+IgUNAAAkQioCCAEyBRUAAKZCOhgNPrlFQhXJJDFBJfhT4z0tYOX4QDADOAc=\"}'\n",
      "loaded time 2022-09-02 11:53:01.738518 seq 2065\n",
      "df:                 nats_rx_time   seq                               ts  \\\n",
      "0 2022-09-02 11:53:01.738518  2065 2022-09-02 11:53:01.718160+02:00   \n",
      "\n",
      "   accel_x_rms  accel_y_rms  accel_z_rms  gnss_mode   gnss_lat   gnss_lon  \\\n",
      "0     0.000585     0.000551     0.000689          3  49.430901  11.071481   \n",
      "\n",
      "   gnss_alt  gnss_speed  gnss_eph  gnss_numsats  \n",
      "0       0.0       0.111     7.778             7  \n"
     ]
    }
   ],
   "source": [
    "\n",
    "async def ns_from_time(t):\n",
    "    ns = await stream.NatsStream.from_start_time(\n",
    "        SERVER, NATS_CREDS, STREAM_NAME, EXPORT_SUBJECT, t\n",
    "    )\n",
    "    # \"1990-01-01T00:00:00.000000Z\"\n",
    "    return ns\n",
    "\n",
    "async def nats_stream_fetch(ns, n):\n",
    "    print(\"nats_stream_fetch %d\" % n)\n",
    "    df = pd.DataFrame()\n",
    "    for i in range(n):\n",
    "        msg = await ns.next_msg(timeout=10.0)\n",
    "        if msg is None:\n",
    "            print(\"msg is None\")\n",
    "            break\n",
    "        await ns.ack(msg)\n",
    "        df2 = metricpandas.metrics_nats_to_pandas(msg)\n",
    "        print(\"loaded time %s seq %d\" % (df2.iloc[0][\"nats_rx_time\"], df2.iloc[0][\"seq\"]  ))\n",
    "        df = pd.concat([df, df2], axis=0)\n",
    "    return df\n",
    "\n",
    "ns = await ns_from_time(datetime.datetime.now()- datetime.timedelta(seconds=7200))\n",
    "df = await nats_stream_fetch(ns, 1)\n",
    "print(\"df: %s\" % df)"
   ]
  },
  {
   "cell_type": "code",
   "execution_count": null,
   "metadata": {},
   "outputs": [],
   "source": []
  },
  {
   "cell_type": "code",
   "execution_count": 3,
   "metadata": {},
   "outputs": [
    {
     "data": {
      "application/vnd.jupyter.widget-view+json": {
       "model_id": "9c83ed7e105f4171a37c0a569e014793",
       "version_major": 2,
       "version_minor": 0
      },
      "text/plain": [
       "VBox(children=(Box(children=(DatePicker(value=None, description='Start Date'),)), FigureWidget({\n",
       "    'data': […"
      ]
     },
     "metadata": {},
     "output_type": "display_data"
    },
    {
     "name": "stdout",
     "output_type": "stream",
     "text": [
      "loader got {'type': 'start_date', 'value': datetime.date(2022, 9, 2)}\n",
      "stime 2022-09-02T00:00:00.000000Z\n",
      "nats options {'servers': ['nats://dbs001.edgefarm.dev:4222'], 'user_credentials': '/home/klaus/work/ops.edgefarm-deployments/overlays/edgefarm.dev/dbs001/source/nsc/nkeys/creds/edgefarm_operator/acc3/user.creds'}\n"
     ]
    },
    {
     "name": "stderr",
     "output_type": "stream",
     "text": [
      "Task exception was never retrieved\n",
      "future: <Task finished name='Task-4' coro=<loader() done, defined at /tmp/ipykernel_367952/773267217.py:55> exception=UnicodeDecodeError('utf-8', b'{\"source\":\"bogie-edge\",\"type\":\"com.dapr.event.sent\",\"pubsubname\":\"bogie-network\",\"traceid\":\"00-f96347241789d3e323bad682be6698e5-784e1ab47296dddf-00\",\"id\":\"23d1d562-226f-4a10-a968-0958b8c43e42\",\"specversion\":\"1.0\",\"datacontenttype\":\"application/protobuf\",\"topic\":\"agilis-mc-1.EXPORT.metrics\",\"tracestate\":\"\",\"data\":\"\\\\n\\\\u000c\\\\u0008\\xe2\\xdf\\xc6\\x98\\\\u0006\\\\u0010\\xc7\\x94\\xc3\\x84\\\\u0001\\\\u00124\\\\n\\\\u0018\\\\u0000\\\\u0000\\\\u0000\\\\u0000v\\xfcW?\\\\u0000\\\\u0000\\\\u0000\\\\u0000v\\xfcW?\\\\u0000\\\\u0000\\\\u0000 H\\xfb_?\\\\u0012\\\\u0018X\\\\u0007\\xabm\\\\u0017:D?\\x96\\xa8\\xeb\\xc0$\\xe9A?<\\xcfc\\x9d\\x84wI?\\\\u001a\\\\u0011\\\\u0008\\\\u0001\\\\u0015\\\\u0015\\xb9EB\\\\u001d\\xf6#1A-\\xfc\\xa9q>\\\\\"\\\\u0005\\\\r\\\\u0000\\\\u0000\\\\u001cB*\\\\u0002\\\\u0008\\\\u00012\\\\u0005\\\\u0015\\\\u0000\\\\u0000\\xa2B:\\\\u0018\\\\r\\\\u0016\\xb9EB\\\\u0015\\xe9#1A%\\\\u001dZd>-\\\\u001f\\x85\\xeb@0\\\\u00038\\\\u0007\"}', 329, 330, 'invalid continuation byte')>\n",
      "Traceback (most recent call last):\n",
      "  File \"/tmp/ipykernel_367952/773267217.py\", line 61, in loader\n",
      "    await ui.load_from_time(command[\"value\"])\n",
      "  File \"/tmp/ipykernel_367952/773267217.py\", line 46, in load_from_time\n",
      "    self.df = await nats_stream_fetch(ns, self.df_cache_size)\n",
      "  File \"/tmp/ipykernel_367952/194033989.py\", line 20, in nats_stream_fetch\n",
      "    df2 = metricpandas.metrics_nats_to_pandas(msg)\n",
      "  File \"/home/klaus/work/bogie-pdm/analytics/stream/metricspandas.py\", line 25, in metrics_nats_to_pandas\n",
      "    payload = json.loads(m.data.decode())[\"data\"]  # strip dapr header\n",
      "UnicodeDecodeError: 'utf-8' codec can't decode byte 0xe2 in position 329: invalid continuation byte\n"
     ]
    },
    {
     "name": "stdout",
     "output_type": "stream",
     "text": [
      "nats_stream_fetch 100\n",
      "message data: b'{\"source\":\"bogie-edge\",\"type\":\"com.dapr.event.sent\",\"pubsubname\":\"bogie-network\",\"traceid\":\"00-f96347241789d3e323bad682be6698e5-784e1ab47296dddf-00\",\"id\":\"23d1d562-226f-4a10-a968-0958b8c43e42\",\"specversion\":\"1.0\",\"datacontenttype\":\"application/protobuf\",\"topic\":\"agilis-mc-1.EXPORT.metrics\",\"tracestate\":\"\",\"data\":\"\\\\n\\\\u000c\\\\u0008\\xe2\\xdf\\xc6\\x98\\\\u0006\\\\u0010\\xc7\\x94\\xc3\\x84\\\\u0001\\\\u00124\\\\n\\\\u0018\\\\u0000\\\\u0000\\\\u0000\\\\u0000v\\xfcW?\\\\u0000\\\\u0000\\\\u0000\\\\u0000v\\xfcW?\\\\u0000\\\\u0000\\\\u0000 H\\xfb_?\\\\u0012\\\\u0018X\\\\u0007\\xabm\\\\u0017:D?\\x96\\xa8\\xeb\\xc0$\\xe9A?<\\xcfc\\x9d\\x84wI?\\\\u001a\\\\u0011\\\\u0008\\\\u0001\\\\u0015\\\\u0015\\xb9EB\\\\u001d\\xf6#1A-\\xfc\\xa9q>\\\\\"\\\\u0005\\\\r\\\\u0000\\\\u0000\\\\u001cB*\\\\u0002\\\\u0008\\\\u00012\\\\u0005\\\\u0015\\\\u0000\\\\u0000\\xa2B:\\\\u0018\\\\r\\\\u0016\\xb9EB\\\\u0015\\xe9#1A%\\\\u001dZd>-\\\\u001f\\x85\\xeb@0\\\\u00038\\\\u0007\"}'\n"
     ]
    }
   ],
   "source": [
    "NUM_SENSORS = 1\n",
    "class DemoUI:\n",
    "    def __init__(self, queue, df_cache_size=100):\n",
    "        self.queue = queue\n",
    "        self.df_cache_size = df_cache_size\n",
    "        \n",
    "        self.start_date_picker = widgets.DatePicker(\n",
    "            description='Start Date',\n",
    "            disabled=False\n",
    "        )\n",
    "        self.control_box = widgets.Box([self.start_date_picker])\n",
    "\n",
    "        self.sensor_wf_fig = go.FigureWidget()\n",
    "        for i in range(NUM_SENSORS):\n",
    "            self.sensor_wf_fig.add_trace(go.Scatter(x=[], y=[], name=\"sensor%d\" % i))\n",
    "\n",
    "\n",
    "        self.start_date_picker.observe(self.handle_start_date_change, names='value')\n",
    "\n",
    "        vbox = widgets.VBox([self.control_box, self.sensor_wf_fig])\n",
    "\n",
    "        self.df = pd.DataFrame()\n",
    "\n",
    "        self.draw(0)\n",
    "        display(vbox)\n",
    "\n",
    "    def draw(self, idx):\n",
    "        \"\"\"\n",
    "        draw dataframe row at idx\n",
    "        \"\"\"\n",
    "        if idx >= self.df.shape[0]:\n",
    "            return\n",
    "        print(\"draw\", idx)\n",
    "        df = self.df.iloc[idx]\n",
    "        fig = self.sensor_wf_fig\n",
    "        \n",
    "        fig.update_layout({\"title\": f\"Dataset from {df['ts']} seq {df['seq']}\"})\n",
    "\n",
    "        for i in range(NUM_SENSORS):\n",
    "            fig.data[i].x = df[\"ts\"]\n",
    "            fig.data[i].y = df[\"accel_x_rms\"]\n",
    "\n",
    "\n",
    "    async def load_from_time(self, time):\n",
    "        ns = await ns_from_time(time)\n",
    "        self.df = await nats_stream_fetch(ns, self.df_cache_size)\n",
    "        self.slider.value = 0\n",
    "        self.draw(0)\n",
    "\n",
    "\n",
    "    def handle_start_date_change(self, change):\n",
    "        self.queue.put_nowait({\"type\": \"start_date\", \"value\": change.new})\n",
    "\n",
    "\n",
    "async def loader(queue, ui):\n",
    "    while True:\n",
    "        command = await queue.get()\n",
    "        queue.task_done()\n",
    "        print(f'loader got {command}')\n",
    "        if command[\"type\"] == \"start_date\":\n",
    "            await ui.load_from_time(command[\"value\"])\n",
    "        else:\n",
    "            print(\"unknown command\")\n",
    "\n",
    "async def main(queue, ui):\n",
    "\n",
    "    # fire up the both producers and consumers\n",
    "    asyncio.create_task(loader(queue, ui))\n",
    "\n",
    "queue = asyncio.Queue()\n",
    "ui = DemoUI(queue)\n",
    "\n",
    "\n",
    "#asyncio.run()\n",
    "await main(queue, ui)\n"
   ]
  }
 ],
 "metadata": {
  "kernelspec": {
   "display_name": "Python 3.8.10 64-bit",
   "language": "python",
   "name": "python3"
  },
  "language_info": {
   "codemirror_mode": {
    "name": "ipython",
    "version": 3
   },
   "file_extension": ".py",
   "mimetype": "text/x-python",
   "name": "python",
   "nbconvert_exporter": "python",
   "pygments_lexer": "ipython3",
   "version": "3.8.10"
  },
  "orig_nbformat": 4,
  "vscode": {
   "interpreter": {
    "hash": "916dbcbb3f70747c44a77c7bcd40155683ae19c65e1c03b4aa3499c5328201f1"
   }
  }
 },
 "nbformat": 4,
 "nbformat_minor": 2
}
