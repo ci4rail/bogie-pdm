{
 "cells": [
  {
   "cell_type": "code",
   "execution_count": 85,
   "metadata": {},
   "outputs": [],
   "source": [
    "import ipywidgets as widgets\n",
    "from IPython.display import display\n",
    "import plotly.graph_objects as go\n",
    "import pandas as pd\n",
    "import numpy as np\n",
    "import datetime\n"
   ]
  },
  {
   "cell_type": "code",
   "execution_count": 33,
   "metadata": {},
   "outputs": [],
   "source": [
    "NUM_SENSORS = 4"
   ]
  },
  {
   "cell_type": "code",
   "execution_count": 66,
   "metadata": {},
   "outputs": [],
   "source": [
    "def make_dataframes(n):\n",
    "\n",
    "    df = pd.DataFrame()\n",
    "\n",
    "    for i in range(n):\n",
    "\n",
    "        x = pd.Series(ix for ix in range(10))\n",
    "\n",
    "        sensor_df = pd.DataFrame()\n",
    "        for j in range(NUM_SENSORS):\n",
    "            sensor_df[\"sensor%d\" % j] = np.sin(x*(i+(j*10)+1))\n",
    "\n",
    "        df2 = pd.DataFrame({\"ts\": [datetime.datetime.now()], \"sensor_data\": [sensor_df]})\n",
    "        df = pd.concat([df, df2], axis=0)\n",
    "    return df\n",
    "\n",
    "all_dfs = make_dataframes(3)\n",
    "#df.shape[0]"
   ]
  },
  {
   "cell_type": "code",
   "execution_count": 91,
   "metadata": {},
   "outputs": [
    {
     "data": {
      "application/vnd.jupyter.widget-view+json": {
       "model_id": "112a6293f7a84b62b7a2128c821eda63",
       "version_major": 2,
       "version_minor": 0
      },
      "text/plain": [
       "VBox(children=(Box(children=(DatePicker(value=None, description='Start Date'), Button(icon='chevron-left', sty…"
      ]
     },
     "metadata": {},
     "output_type": "display_data"
    },
    {
     "name": "stdout",
     "output_type": "stream",
     "text": [
      "draw 0\n"
     ]
    }
   ],
   "source": [
    "widgets.IntSlider(\n",
    "    min=0,\n",
    "    max=10,\n",
    "    step=1,\n",
    "    description='Slider:',\n",
    "    value=3\n",
    ")\n",
    "\n",
    "start_date_picker = widgets.DatePicker(\n",
    "    description='Start Date',\n",
    "    disabled=False\n",
    ")\n",
    "\n",
    "slider = widgets.IntSlider(\n",
    "    min=0,\n",
    "    max=9,\n",
    "    step=1,\n",
    "    readout=False, \n",
    ")\n",
    "btn_left = widgets.Button(icon=\"chevron-left\")\n",
    "btn_right = widgets.Button(icon=\"chevron-right\")\n",
    "control_box = widgets.Box([start_date_picker, btn_left, slider, btn_right])\n",
    "\n",
    "fig = go.FigureWidget()\n",
    "\n",
    "df = all_dfs.iloc[0]\n",
    "x=list(range(0,df['sensor_data'].shape[0]))\n",
    "for i in range(NUM_SENSORS):\n",
    "    fig.add_trace(go.Scatter(x=[], y=[], name=\"sensor%d\" % i))\n",
    "\n",
    "\n",
    "def draw(idx):\n",
    "    print(\"draw\", idx)\n",
    "    df = all_dfs.iloc[idx]\n",
    "    fig.update_layout({\"title\": f\"Dataset from {df['ts']}\"})\n",
    "\n",
    "    for i in range(NUM_SENSORS):\n",
    "        fig.data[i].x = list(range(0,df['sensor_data'].shape[0]))\n",
    "        fig.data[i].y = df[\"sensor_data\"][\"sensor%d\" % i]\n",
    "\n",
    "\n",
    "\n",
    "def handle_slider_change(change):\n",
    "    draw(change.new)\n",
    "\n",
    "def btn_eventhandler(obj):\n",
    "    print('Hello from the {} button!'.format(obj.description))\n",
    "\n",
    "slider.observe(handle_slider_change, names='value')\n",
    "btn_right.on_click(btn_eventhandler)\n",
    "\n",
    "vbox = widgets.VBox([control_box, fig])\n",
    "display(vbox)\n",
    "draw(0)\n"
   ]
  },
  {
   "cell_type": "code",
   "execution_count": 70,
   "metadata": {},
   "outputs": [
    {
     "data": {
      "text/plain": [
       "[0, 1, 2, 3, 4, 5, 6, 7, 8, 9]"
      ]
     },
     "execution_count": 70,
     "metadata": {},
     "output_type": "execute_result"
    }
   ],
   "source": [
    "df = all_dfs.iloc[0]\n",
    "\n",
    "a = list(range(0,df['sensor_data'].shape[0]))\n",
    "a"
   ]
  }
 ],
 "metadata": {
  "kernelspec": {
   "display_name": "Python 3.8.10 64-bit",
   "language": "python",
   "name": "python3"
  },
  "language_info": {
   "codemirror_mode": {
    "name": "ipython",
    "version": 3
   },
   "file_extension": ".py",
   "mimetype": "text/x-python",
   "name": "python",
   "nbconvert_exporter": "python",
   "pygments_lexer": "ipython3",
   "version": "3.8.10"
  },
  "orig_nbformat": 4,
  "vscode": {
   "interpreter": {
    "hash": "916dbcbb3f70747c44a77c7bcd40155683ae19c65e1c03b4aa3499c5328201f1"
   }
  }
 },
 "nbformat": 4,
 "nbformat_minor": 2
}
