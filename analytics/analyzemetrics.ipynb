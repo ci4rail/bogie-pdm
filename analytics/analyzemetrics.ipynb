{
 "cells": [
  {
   "cell_type": "code",
   "execution_count": 1,
   "metadata": {},
   "outputs": [],
   "source": [
    "import ipywidgets as widgets\n",
    "from IPython.display import display\n",
    "import plotly.graph_objects as go\n",
    "import asyncio\n",
    "import pandas as pd\n",
    "import numpy as np\n",
    "import datetime\n",
    "\n",
    "import stream.metricspandas as metricpandas\n",
    "import stream.stream as stream\n",
    "\n",
    "SERVER=\"nats://dbs001.edgefarm.dev:4222\"\n",
    "EXPORT_SUBJECT = \"agilis-mc-1.EXPORT.metrics\"\n",
    "STREAM_NAME = \"bogie-network_export-stream-aggregate\"\n",
    "NATS_CREDS = \"/home/klaus/work/ops.edgefarm-deployments/overlays/edgefarm.dev/dbs001/source/nsc/nkeys/creds/edgefarm_operator/acc3/user.creds\""
   ]
  },
  {
   "cell_type": "code",
   "execution_count": 4,
   "metadata": {},
   "outputs": [
    {
     "name": "stdout",
     "output_type": "stream",
     "text": [
      "start time 2022-09-02T09:44:02.752821Z\n",
      "nats options {'servers': ['nats://dbs001.edgefarm.dev:4222'], 'user_credentials': '/home/klaus/work/ops.edgefarm-deployments/overlays/edgefarm.dev/dbs001/source/nsc/nkeys/creds/edgefarm_operator/acc3/user.creds'}\n",
      "nats_stream_fetch 10\n",
      "message data: b'{\"specversion\":\"1.0\",\"datacontenttype\":\"application/octet-stream\",\"source\":\"bogie-edge\",\"pubsubname\":\"bogie-network\",\"tracestate\":\"\",\"data_base64\":\"CgsI5qDHmAYQ7NquWBI0ChgAAAAgSPtfPwAAACBI+08/AAAAAA39Yz8SGLc2yxpzhkM/bG4dJFCVQT+mzkogzMhJPxoRCAEVGblFQh0AIzFBLc3MzDwiBQ0AACBCKgIIATIFFQAApkI6GA0ZuUVCFREjMUEl7FE4PS1vEg9BMAM4Bw==\",\"id\":\"6c5a49b5-dd11-499f-8dd4-e2e765db31ef\",\"type\":\"com.dapr.event.sent\",\"topic\":\"agilis-mc-1.EXPORT.metrics\",\"traceid\":\"00-44a53d810a40d2aa60c8d1e8034085fe-5d931482c6016a68-00\"}'\n",
      "loaded time 2022-09-02 11:44:06.214727 seq 1958\n",
      "message data: b'{\"id\":\"397c453f-a98e-4aa3-bc37-c973dd858df7\",\"specversion\":\"1.0\",\"topic\":\"agilis-mc-1.EXPORT.metrics\",\"pubsubname\":\"bogie-network\",\"data_base64\":\"CgsI66DHmAYQp4X4WhI0ChgAAAAAdvxXPwAAAAB2/Fc/AAAAAA39Yz8SGF2xcmDU4EE/Mag9fXoRRD+ADFpOn3NJPxoRCAEVGLlFQh0JIzFBLWiR7TwiBQ0AACRCKgIIATIFFQAApkI6GA0XuUVCFQMjMUEllkMLPS0/NQZBMAM4Bw==\",\"datacontenttype\":\"application/octet-stream\",\"source\":\"bogie-edge\",\"type\":\"com.dapr.event.sent\",\"traceid\":\"00-d55bb4cdcdb6d3ec31d8b52206b33ee2-5477cd81b1ed7090-00\",\"tracestate\":\"\"}'\n",
      "loaded time 2022-09-02 11:44:11.215056 seq 1959\n",
      "message data: b'{\"source\":\"bogie-edge\",\"topic\":\"agilis-mc-1.EXPORT.metrics\",\"pubsubname\":\"bogie-network\",\"tracestate\":\"\",\"data_base64\":\"CgsI8KDHmAYQpsnUXRI0ChgAAAAAdvxXPwAAAAB2/Fc/AAAAIEj7Xz8SGC2MMTn29UA/7mTrzrtiQD90QWvGPyxHPxoRCAEVFblFQh35IjFBLVg5ND0iBQ0AACRCKgIIATIFFQAApkI6GA0VuUVCFf0iMUElCtejPC3b+fJAMAM4CA==\",\"id\":\"7f5ea197-fa31-4972-8c22-a2db0cac90fc\",\"specversion\":\"1.0\",\"datacontenttype\":\"application/octet-stream\",\"type\":\"com.dapr.event.sent\",\"traceid\":\"00-0aa1ee6fae2b5a698cca3f7e040ec331-4b5b86819cd977b8-00\"}'\n",
      "loaded time 2022-09-02 11:44:16.222886 seq 1960\n",
      "message data: b'{\"topic\":\"agilis-mc-1.EXPORT.metrics\",\"pubsubname\":\"bogie-network\",\"specversion\":\"1.0\",\"source\":\"bogie-edge\",\"type\":\"com.dapr.event.sent\",\"tracestate\":\"\",\"data_base64\":\"CgsI9aDHmAYQ38rBXxI0ChgAAAAAdvxXPwAAAAB2/Fc/AAAAIEj7Xz8SGNpsMCGA2EE/g3TAvyTpQT/SnuCDb0BGPxoRCAEVFLlFQh0FIzFBLTm0SD0iBQ0AACBCKgIIATIFFQAApkI6GA0UuUVCFQgjMUElMQgsPS0nMdxAMAM4CA==\",\"id\":\"5c71d906-f64b-44ca-9ebb-f1f87d9ac496\",\"datacontenttype\":\"application/octet-stream\",\"traceid\":\"00-87773f99dd70ee78d1385a8234ad5517-423f3f8187c57ee0-00\"}'\n",
      "loaded time 2022-09-02 11:44:21.218976 seq 1961\n",
      "message data: b'{\"data_base64\":\"CgsI+qDHmAYQosOqYRI0ChgAAAAAdvxXPwAAAAB2/Fc/AAAAIEj7Xz8SGJ6S7eYvd0M/BQCL9bn5QT/SzUVhNiVJPxoRCAEVFLlFQh0GIzFBLUJgZTwiBQ0AACBCKgIIATIFFQAApkI6GA0UuUVCFQQjMUElppvEPC1vEs9AMAM4CA==\",\"specversion\":\"1.0\",\"source\":\"bogie-edge\",\"pubsubname\":\"bogie-network\",\"traceid\":\"00-85f201564da2fbac710f76d7bdb52b22-3923f88072b18508-00\",\"tracestate\":\"\",\"id\":\"5d9fda6a-2a50-4ade-8008-4f06419c9de1\",\"datacontenttype\":\"application/octet-stream\",\"type\":\"com.dapr.event.sent\",\"topic\":\"agilis-mc-1.EXPORT.metrics\"}'\n",
      "loaded time 2022-09-02 11:44:26.222493 seq 1962\n",
      "message data: b'{\"type\":\"com.dapr.event.sent\",\"pubsubname\":\"bogie-network\",\"traceid\":\"00-f9b56c2bc336a5f87a0dfac966664693-3007b1805d9d8c30-00\",\"tracestate\":\"\",\"data_base64\":\"CgsI/6DHmAYQoIS0YxI0ChgAAAAAdvxXPwAAAAB2/Fc/AAAAAA39Yz8SGAZfUvl3O0I/HkmxHauzQD9NJdG7d65EPxoRCAEVFLlFQh0CIzFBLY/CdTwiBQ0AACRCKgIIATIFFQAApkI6GA0VuUVCFQAjMUElnu8nPS0AAMhAMAM4CA==\",\"id\":\"728444ef-92d8-4f1e-bc1b-88ac2d7a25bb\",\"datacontenttype\":\"application/octet-stream\",\"source\":\"bogie-edge\",\"topic\":\"agilis-mc-1.EXPORT.metrics\",\"specversion\":\"1.0\"}'\n",
      "loaded time 2022-09-02 11:44:31.234851 seq 1963\n",
      "message data: b'{\"datacontenttype\":\"application/octet-stream\",\"source\":\"bogie-edge\",\"type\":\"com.dapr.event.sent\",\"topic\":\"agilis-mc-1.EXPORT.metrics\",\"tracestate\":\"\",\"data_base64\":\"CgsIhKHHmAYQuZ7HZhI0ChgAAAAAdvxXPwAAAAB2/Fc/AAAAIEj7Xz8SGFbaj6Jc+0I/zw8MvUFiQT9hK6E/aWhGPxoRCAEVFblFQh0AIzFBLZ7vJz0iBQ0AACRCKgIIATIFFQAApkI6GA0UuUVCFf0iMUElzczMPC2mm8RAMAM4Bw==\",\"id\":\"caad7d6c-f462-44aa-9af3-8442ae78f52b\",\"pubsubname\":\"bogie-network\",\"traceid\":\"00-83d1c2f0853ae8bd300677f1372f72b5-27eb698048899358-00\",\"specversion\":\"1.0\"}'\n",
      "loaded time 2022-09-02 11:44:36.243532 seq 1964\n",
      "message data: b'{\"specversion\":\"1.0\",\"type\":\"com.dapr.event.sent\",\"topic\":\"agilis-mc-1.EXPORT.metrics\",\"pubsubname\":\"bogie-network\",\"traceid\":\"00-d839169e339fa98734921c4c3c602b04-1ecf228033759a80-00\",\"tracestate\":\"\",\"data_base64\":\"CgsIiaHHmAYQh+PWaBI0ChgAAAAAdvxXPwAAACBI+08/AAAAIEj7Xz8SGOLO4y7kP0E/vPTj+NULQT+Iye+Cb0BGPxoRCAEVFLlFQh3/IjFBLc3MzDwiBQ0AACBCKgIIATIFFQAApkI6GA0TuUVCFQQjMUElf2q8PC17FMJAMAM4Bw==\",\"id\":\"632155b8-7e8f-4929-a2d1-132120d0c761\",\"datacontenttype\":\"application/octet-stream\",\"source\":\"bogie-edge\"}'\n",
      "loaded time 2022-09-02 11:44:41.242808 seq 1965\n",
      "message data: b'{\"id\":\"12c21278-63a5-4ffe-a0bf-6a92caeccb85\",\"datacontenttype\":\"application/octet-stream\",\"pubsubname\":\"bogie-network\",\"tracestate\":\"\",\"specversion\":\"1.0\",\"source\":\"bogie-edge\",\"type\":\"com.dapr.event.sent\",\"topic\":\"agilis-mc-1.EXPORT.metrics\",\"traceid\":\"00-0a57548821e59be0c60bd92b5fe0d3a1-15b3db7f1e61a1a8-00\",\"data_base64\":\"CgsIjqHHmAYQy+TOahI0ChgAAAAAdvxXPwAAAAB2/Fc/AAAAAA39Yz8SGHnWPrTgZ0M/BQCL9bn5QT/tjW/5MINJPxoRCAEVE7lFQh0EIzFBLY/CdTwiBQ0AACRCKgIIATIFFQAApkI6GA0TuUVCFQQjMUElEoPAPS1I4cJAMAM4CA==\"}'\n",
      "loaded time 2022-09-02 11:44:46.250117 seq 1966\n",
      "message data: b'{\"id\":\"8c6d6a41-23a5-4d16-bf35-3200977a9b3b\",\"topic\":\"agilis-mc-1.EXPORT.metrics\",\"pubsubname\":\"bogie-network\",\"traceid\":\"00-5c70790143463669cc31d26086084ead-0c97947f094da8d0-00\",\"tracestate\":\"\",\"data_base64\":\"CgsIk6HHmAYQqbeybBI0ChgAAAAAdvxXPwAAAAB2/Fc/AAAAAA39Yz8SGAn6WB00pkE/f68qs+BnQz/ZwKjcbGhKPxoRCAEVFLlFQh0EIzFBLbx0kz4iBQ0AACRCKgIIATIFFQAApkI6GA0VuUVCFf8iMUEl7FE4PS1YOchAMAM4CA==\",\"specversion\":\"1.0\",\"datacontenttype\":\"application/octet-stream\",\"source\":\"bogie-edge\",\"type\":\"com.dapr.event.sent\"}'\n",
      "loaded time 2022-09-02 11:44:51.246125 seq 1967\n",
      "df:                 nats_rx_time   seq                               ts  \\\n",
      "0 2022-09-02 11:44:06.214727  1958 2022-09-02 11:44:06.185314+02:00   \n",
      "0 2022-09-02 11:44:11.215056  1959 2022-09-02 11:44:11.190710+02:00   \n",
      "0 2022-09-02 11:44:16.222886  1960 2022-09-02 11:44:16.196420+02:00   \n",
      "0 2022-09-02 11:44:21.218976  1961 2022-09-02 11:44:21.200303+02:00   \n",
      "0 2022-09-02 11:44:26.222493  1962 2022-09-02 11:44:26.204120+02:00   \n",
      "0 2022-09-02 11:44:31.234851  1963 2022-09-02 11:44:31.208470+02:00   \n",
      "0 2022-09-02 11:44:36.243532  1964 2022-09-02 11:44:36.215076+02:00   \n",
      "0 2022-09-02 11:44:41.242808  1965 2022-09-02 11:44:41.219525+02:00   \n",
      "0 2022-09-02 11:44:46.250117  1966 2022-09-02 11:44:46.223588+02:00   \n",
      "0 2022-09-02 11:44:51.246125  1967 2022-09-02 11:44:51.227318+02:00   \n",
      "\n",
      "   accel_x_rms  accel_y_rms  accel_z_rms  gnss_mode   gnss_lat   gnss_lon  \\\n",
      "0     0.000596     0.000537     0.000787          3  49.430759  11.071061   \n",
      "0     0.000546     0.000612     0.000777          3  49.430752  11.071048   \n",
      "0     0.000518     0.000500     0.000707          3  49.430744  11.071042   \n",
      "0     0.000545     0.000547     0.000679          3  49.430740  11.071053   \n",
      "0     0.000594     0.000549     0.000767          3  49.430740  11.071049   \n",
      "0     0.000556     0.000510     0.000631          3  49.430744  11.071045   \n",
      "0     0.000579     0.000531     0.000684          3  49.430740  11.071042   \n",
      "0     0.000526     0.000520     0.000679          3  49.430737  11.071049   \n",
      "0     0.000592     0.000549     0.000779          3  49.430737  11.071049   \n",
      "0     0.000539     0.000592     0.000806          3  49.430744  11.071044   \n",
      "\n",
      "   gnss_alt  gnss_speed  gnss_eph  gnss_numsats  \n",
      "0       0.0       0.045     8.942             7  \n",
      "0       0.0       0.034     8.388             7  \n",
      "0       0.0       0.020     7.593             8  \n",
      "0       0.0       0.042     6.881             8  \n",
      "0       0.0       0.024     6.471             8  \n",
      "0       0.0       0.041     6.250             8  \n",
      "0       0.0       0.025     6.144             7  \n",
      "0       0.0       0.023     6.065             7  \n",
      "0       0.0       0.094     6.090             8  \n",
      "0       0.0       0.045     6.257             8  \n"
     ]
    }
   ],
   "source": [
    "\n",
    "async def ns_from_time(t):\n",
    "    ns = await stream.NatsStream.from_start_time(\n",
    "        SERVER, NATS_CREDS, STREAM_NAME, EXPORT_SUBJECT, t\n",
    "    )\n",
    "    # \"1990-01-01T00:00:00.000000Z\"\n",
    "    return ns\n",
    "\n",
    "async def nats_stream_fetch(ns, n):\n",
    "    print(\"nats_stream_fetch %d\" % n)\n",
    "    timeout = 10.0\n",
    "    df = pd.DataFrame()\n",
    "    for i in range(n):\n",
    "        msg = await ns.next_msg(timeout=timeout)\n",
    "        if msg is None:\n",
    "            print(\"msg is None\")\n",
    "            break\n",
    "        await ns.ack(msg)\n",
    "        df2 = metricpandas.metrics_nats_to_pandas(msg)\n",
    "        print(\"loaded time %s seq %d\" % (df2.iloc[0][\"nats_rx_time\"], df2.iloc[0][\"seq\"]  ))\n",
    "        df = pd.concat([df, df2], axis=0)\n",
    "        timeout = 0.5\n",
    "    return df\n",
    "\n",
    "ns = await ns_from_time(datetime.datetime.now()-datetime.timedelta(seconds=3600))\n",
    "df = await nats_stream_fetch(ns, 10)\n",
    "await ns.close()\n",
    "print(\"df: %s\" % df)"
   ]
  },
  {
   "cell_type": "code",
   "execution_count": 2,
   "metadata": {},
   "outputs": [
    {
     "name": "stdout",
     "output_type": "stream",
     "text": [
      "t: 2022-09-02 12:40:52.657634\n",
      "t1: 2022-09-02 10:40:52.657634+00:00\n",
      "t1: 2022-09-02T10:40:52.657634Z\n"
     ]
    }
   ],
   "source": [
    "import datetime\n",
    "import stream.timeconv as timeconv\n",
    "\n",
    "t = datetime.datetime.now()\n",
    "print(\"t: %s\" % t)\n",
    "\n",
    "t1 = timeconv.localtime_to_utc(t)\n",
    "print(\"t1: %s\" % t1)\n",
    "print(\"t1: %s\" % t1.strftime(\"%Y-%m-%dT%H:%M:%S.%fZ\"))\n"
   ]
  },
  {
   "cell_type": "code",
   "execution_count": null,
   "metadata": {},
   "outputs": [],
   "source": []
  },
  {
   "cell_type": "code",
   "execution_count": 3,
   "metadata": {},
   "outputs": [
    {
     "data": {
      "application/vnd.jupyter.widget-view+json": {
       "model_id": "9c83ed7e105f4171a37c0a569e014793",
       "version_major": 2,
       "version_minor": 0
      },
      "text/plain": [
       "VBox(children=(Box(children=(DatePicker(value=None, description='Start Date'),)), FigureWidget({\n",
       "    'data': […"
      ]
     },
     "metadata": {},
     "output_type": "display_data"
    },
    {
     "name": "stdout",
     "output_type": "stream",
     "text": [
      "loader got {'type': 'start_date', 'value': datetime.date(2022, 9, 2)}\n",
      "stime 2022-09-02T00:00:00.000000Z\n",
      "nats options {'servers': ['nats://dbs001.edgefarm.dev:4222'], 'user_credentials': '/home/klaus/work/ops.edgefarm-deployments/overlays/edgefarm.dev/dbs001/source/nsc/nkeys/creds/edgefarm_operator/acc3/user.creds'}\n"
     ]
    },
    {
     "name": "stderr",
     "output_type": "stream",
     "text": [
      "Task exception was never retrieved\n",
      "future: <Task finished name='Task-4' coro=<loader() done, defined at /tmp/ipykernel_367952/773267217.py:55> exception=UnicodeDecodeError('utf-8', b'{\"source\":\"bogie-edge\",\"type\":\"com.dapr.event.sent\",\"pubsubname\":\"bogie-network\",\"traceid\":\"00-f96347241789d3e323bad682be6698e5-784e1ab47296dddf-00\",\"id\":\"23d1d562-226f-4a10-a968-0958b8c43e42\",\"specversion\":\"1.0\",\"datacontenttype\":\"application/protobuf\",\"topic\":\"agilis-mc-1.EXPORT.metrics\",\"tracestate\":\"\",\"data\":\"\\\\n\\\\u000c\\\\u0008\\xe2\\xdf\\xc6\\x98\\\\u0006\\\\u0010\\xc7\\x94\\xc3\\x84\\\\u0001\\\\u00124\\\\n\\\\u0018\\\\u0000\\\\u0000\\\\u0000\\\\u0000v\\xfcW?\\\\u0000\\\\u0000\\\\u0000\\\\u0000v\\xfcW?\\\\u0000\\\\u0000\\\\u0000 H\\xfb_?\\\\u0012\\\\u0018X\\\\u0007\\xabm\\\\u0017:D?\\x96\\xa8\\xeb\\xc0$\\xe9A?<\\xcfc\\x9d\\x84wI?\\\\u001a\\\\u0011\\\\u0008\\\\u0001\\\\u0015\\\\u0015\\xb9EB\\\\u001d\\xf6#1A-\\xfc\\xa9q>\\\\\"\\\\u0005\\\\r\\\\u0000\\\\u0000\\\\u001cB*\\\\u0002\\\\u0008\\\\u00012\\\\u0005\\\\u0015\\\\u0000\\\\u0000\\xa2B:\\\\u0018\\\\r\\\\u0016\\xb9EB\\\\u0015\\xe9#1A%\\\\u001dZd>-\\\\u001f\\x85\\xeb@0\\\\u00038\\\\u0007\"}', 329, 330, 'invalid continuation byte')>\n",
      "Traceback (most recent call last):\n",
      "  File \"/tmp/ipykernel_367952/773267217.py\", line 61, in loader\n",
      "    await ui.load_from_time(command[\"value\"])\n",
      "  File \"/tmp/ipykernel_367952/773267217.py\", line 46, in load_from_time\n",
      "    self.df = await nats_stream_fetch(ns, self.df_cache_size)\n",
      "  File \"/tmp/ipykernel_367952/194033989.py\", line 20, in nats_stream_fetch\n",
      "    df2 = metricpandas.metrics_nats_to_pandas(msg)\n",
      "  File \"/home/klaus/work/bogie-pdm/analytics/stream/metricspandas.py\", line 25, in metrics_nats_to_pandas\n",
      "    payload = json.loads(m.data.decode())[\"data\"]  # strip dapr header\n",
      "UnicodeDecodeError: 'utf-8' codec can't decode byte 0xe2 in position 329: invalid continuation byte\n"
     ]
    },
    {
     "name": "stdout",
     "output_type": "stream",
     "text": [
      "nats_stream_fetch 100\n",
      "message data: b'{\"source\":\"bogie-edge\",\"type\":\"com.dapr.event.sent\",\"pubsubname\":\"bogie-network\",\"traceid\":\"00-f96347241789d3e323bad682be6698e5-784e1ab47296dddf-00\",\"id\":\"23d1d562-226f-4a10-a968-0958b8c43e42\",\"specversion\":\"1.0\",\"datacontenttype\":\"application/protobuf\",\"topic\":\"agilis-mc-1.EXPORT.metrics\",\"tracestate\":\"\",\"data\":\"\\\\n\\\\u000c\\\\u0008\\xe2\\xdf\\xc6\\x98\\\\u0006\\\\u0010\\xc7\\x94\\xc3\\x84\\\\u0001\\\\u00124\\\\n\\\\u0018\\\\u0000\\\\u0000\\\\u0000\\\\u0000v\\xfcW?\\\\u0000\\\\u0000\\\\u0000\\\\u0000v\\xfcW?\\\\u0000\\\\u0000\\\\u0000 H\\xfb_?\\\\u0012\\\\u0018X\\\\u0007\\xabm\\\\u0017:D?\\x96\\xa8\\xeb\\xc0$\\xe9A?<\\xcfc\\x9d\\x84wI?\\\\u001a\\\\u0011\\\\u0008\\\\u0001\\\\u0015\\\\u0015\\xb9EB\\\\u001d\\xf6#1A-\\xfc\\xa9q>\\\\\"\\\\u0005\\\\r\\\\u0000\\\\u0000\\\\u001cB*\\\\u0002\\\\u0008\\\\u00012\\\\u0005\\\\u0015\\\\u0000\\\\u0000\\xa2B:\\\\u0018\\\\r\\\\u0016\\xb9EB\\\\u0015\\xe9#1A%\\\\u001dZd>-\\\\u001f\\x85\\xeb@0\\\\u00038\\\\u0007\"}'\n"
     ]
    }
   ],
   "source": [
    "NUM_SENSORS = 1\n",
    "class DemoUI:\n",
    "    def __init__(self, queue, df_cache_size=100):\n",
    "        self.queue = queue\n",
    "        self.df_cache_size = df_cache_size\n",
    "        \n",
    "        self.start_date_picker = widgets.DatePicker(\n",
    "            description='Start Date',\n",
    "            disabled=False\n",
    "        )\n",
    "        self.control_box = widgets.Box([self.start_date_picker])\n",
    "\n",
    "        self.sensor_wf_fig = go.FigureWidget()\n",
    "        for i in range(NUM_SENSORS):\n",
    "            self.sensor_wf_fig.add_trace(go.Scatter(x=[], y=[], name=\"sensor%d\" % i))\n",
    "\n",
    "\n",
    "        self.start_date_picker.observe(self.handle_start_date_change, names='value')\n",
    "\n",
    "        vbox = widgets.VBox([self.control_box, self.sensor_wf_fig])\n",
    "\n",
    "        self.df = pd.DataFrame()\n",
    "\n",
    "        self.draw(0)\n",
    "        display(vbox)\n",
    "\n",
    "    def draw(self, idx):\n",
    "        \"\"\"\n",
    "        draw dataframe row at idx\n",
    "        \"\"\"\n",
    "        if idx >= self.df.shape[0]:\n",
    "            return\n",
    "        print(\"draw\", idx)\n",
    "        df = self.df.iloc[idx]\n",
    "        fig = self.sensor_wf_fig\n",
    "        \n",
    "        fig.update_layout({\"title\": f\"Dataset from {df['ts']} seq {df['seq']}\"})\n",
    "\n",
    "        for i in range(NUM_SENSORS):\n",
    "            fig.data[i].x = df[\"ts\"]\n",
    "            fig.data[i].y = df[\"accel_x_rms\"]\n",
    "\n",
    "\n",
    "    async def load_from_time(self, time):\n",
    "        ns = await ns_from_time(time)\n",
    "        self.df = await nats_stream_fetch(ns, self.df_cache_size)\n",
    "        self.slider.value = 0\n",
    "        self.draw(0)\n",
    "\n",
    "\n",
    "    def handle_start_date_change(self, change):\n",
    "        self.queue.put_nowait({\"type\": \"start_date\", \"value\": change.new})\n",
    "\n",
    "\n",
    "async def loader(queue, ui):\n",
    "    while True:\n",
    "        command = await queue.get()\n",
    "        queue.task_done()\n",
    "        print(f'loader got {command}')\n",
    "        if command[\"type\"] == \"start_date\":\n",
    "            await ui.load_from_time(command[\"value\"])\n",
    "        else:\n",
    "            print(\"unknown command\")\n",
    "\n",
    "async def main(queue, ui):\n",
    "\n",
    "    # fire up the both producers and consumers\n",
    "    asyncio.create_task(loader(queue, ui))\n",
    "\n",
    "queue = asyncio.Queue()\n",
    "ui = DemoUI(queue)\n",
    "\n",
    "\n",
    "#asyncio.run()\n",
    "await main(queue, ui)\n"
   ]
  }
 ],
 "metadata": {
  "kernelspec": {
   "display_name": "Python 3.8.10 64-bit",
   "language": "python",
   "name": "python3"
  },
  "language_info": {
   "codemirror_mode": {
    "name": "ipython",
    "version": 3
   },
   "file_extension": ".py",
   "mimetype": "text/x-python",
   "name": "python",
   "nbconvert_exporter": "python",
   "pygments_lexer": "ipython3",
   "version": "3.8.10"
  },
  "orig_nbformat": 4,
  "vscode": {
   "interpreter": {
    "hash": "916dbcbb3f70747c44a77c7bcd40155683ae19c65e1c03b4aa3499c5328201f1"
   }
  }
 },
 "nbformat": 4,
 "nbformat_minor": 2
}
