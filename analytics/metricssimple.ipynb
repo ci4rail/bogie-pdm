{
 "cells": [
  {
   "cell_type": "code",
   "execution_count": 3,
   "metadata": {},
   "outputs": [
    {
     "name": "stdout",
     "output_type": "stream",
     "text": [
      "The autoreload extension is already loaded. To reload it, use:\n",
      "  %reload_ext autoreload\n"
     ]
    }
   ],
   "source": [
    "%matplotlib widget\n",
    "%load_ext autoreload\n",
    "%autoreload 2\n",
    "%gui asyncio\n",
    "\n",
    "import metrics_ui.loader as loader\n",
    "import metrics_ui.simple_ui as ui\n",
    "import datetime\n",
    "\n",
    "SERVER=\"nats://dbs001.edgefarm.dev:4222\"\n",
    "EXPORT_SUBJECT = \"agilis-mc-1.EXPORT.metrics\"\n",
    "STREAM_NAME = \"bogie-network_export-stream-aggregate\"\n",
    "NATS_CREDS = \"user.creds\""
   ]
  },
  {
   "cell_type": "code",
   "execution_count": 12,
   "metadata": {},
   "outputs": [
    {
     "name": "stdout",
     "output_type": "stream",
     "text": [
      "loaded 45 rows\n",
      "Dataset starting 2022-09-06 18:08:32.449692+02:00\n"
     ]
    },
    {
     "data": {
      "application/vnd.jupyter.widget-view+json": {
       "model_id": "87f59759e7344552a10c4a46c7fba354",
       "version_major": 2,
       "version_minor": 0
      },
      "text/plain": [
       "VBox(children=(Map(center=[49.44, 11.06], controls=(ZoomControl(options=['position', 'zoom_in_text', 'zoom_in_…"
      ]
     },
     "execution_count": 12,
     "metadata": {},
     "output_type": "execute_result"
    }
   ],
   "source": [
    "START_TIME = \"2022-09-06T17:40:00+02:00\"\n",
    "TIME_RANGE = datetime.timedelta(minutes=60)\n",
    "\n",
    "start =datetime.datetime.fromisoformat(START_TIME)\n",
    "\n",
    "df = await loader.nats_stream_fetch( SERVER, NATS_CREDS, STREAM_NAME, EXPORT_SUBJECT, start, start + TIME_RANGE)\n",
    "print(\"loaded %d rows\" % df.shape[0])\n",
    "ui.render_ui(df)"
   ]
  },
  {
   "cell_type": "code",
   "execution_count": null,
   "metadata": {},
   "outputs": [],
   "source": []
  }
 ],
 "metadata": {
  "kernelspec": {
   "display_name": "Python 3 (ipykernel)",
   "language": "python",
   "name": "python3"
  },
  "language_info": {
   "codemirror_mode": {
    "name": "ipython",
    "version": 3
   },
   "file_extension": ".py",
   "mimetype": "text/x-python",
   "name": "python",
   "nbconvert_exporter": "python",
   "pygments_lexer": "ipython3",
   "version": "3.9.0"
  },
  "vscode": {
   "interpreter": {
    "hash": "81794d4967e6c3204c66dcd87b604927b115b27c00565d3d43f05ba2f3a2cb0d"
   }
  }
 },
 "nbformat": 4,
 "nbformat_minor": 4
}
