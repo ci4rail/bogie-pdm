{
 "cells": [
  {
   "cell_type": "code",
   "execution_count": 58,
   "metadata": {},
   "outputs": [
    {
     "name": "stdout",
     "output_type": "stream",
     "text": [
      "The autoreload extension is already loaded. To reload it, use:\n",
      "  %reload_ext autoreload\n"
     ]
    },
    {
     "data": {
      "application/vnd.jupyter.widget-view+json": {
       "model_id": "d50a93dfaaae4a4a833facc2621af903",
       "version_major": 2,
       "version_minor": 0
      },
      "text/plain": [
       "MetricsUi(children=(Box(children=(DatetimePicker(value=None), Dropdown(description='Time range', index=3, opti…"
      ]
     },
     "metadata": {},
     "output_type": "display_data"
    },
    {
     "name": "stdout",
     "output_type": "stream",
     "text": [
      "loader loop loading from 2022-09-06 10:47:42.817538+02:00\n",
      "load_from_time2022-09-06 10:47:42.817538+02:00\n"
     ]
    }
   ],
   "source": [
    "%matplotlib inline\n",
    "%load_ext autoreload\n",
    "%autoreload 2\n",
    "%gui asyncio\n",
    "\n",
    "import asyncio\n",
    "import metrics_ui.loader as loader\n",
    "import metrics_ui\n",
    "\n",
    "SERVER=\"nats://dbs001.edgefarm.dev:4222\"\n",
    "EXPORT_SUBJECT = \"agilis-mc-1.EXPORT.metrics\"\n",
    "STREAM_NAME = \"bogie-network_export-stream-aggregate\"\n",
    "NATS_CREDS = \"user.creds\"\n",
    "\n",
    "async def main(queue, ui):\n",
    "    asyncio.create_task(loader.loader(queue, ui, SERVER, NATS_CREDS, STREAM_NAME, EXPORT_SUBJECT))\n",
    "\n",
    "queue = asyncio.Queue()\n",
    "ui = metrics_ui.ui.MetricsUi(queue)\n",
    "\n",
    "await main(queue, ui)\n",
    "display(ui)\n"
   ]
  },
  {
   "cell_type": "code",
   "execution_count": 59,
   "metadata": {},
   "outputs": [
    {
     "name": "stdout",
     "output_type": "stream",
     "text": [
      "draw\n",
      "draw_lte\n"
     ]
    },
    {
     "data": {
      "application/vnd.jupyter.widget-view+json": {
       "model_id": "d50a93dfaaae4a4a833facc2621af903",
       "version_major": 2,
       "version_minor": 0
      },
      "text/plain": [
       "MetricsUi(children=(Box(children=(DatetimePicker(value=datetime.datetime(2022, 9, 6, 8, 0, tzinfo=datetime.tim…"
      ]
     },
     "metadata": {},
     "output_type": "display_data"
    }
   ],
   "source": [
    "ui.draw()\n"
   ]
  },
  {
   "cell_type": "code",
   "execution_count": 54,
   "metadata": {},
   "outputs": [],
   "source": [
    "import matplotlib.pyplot as plt\n",
    "output = ui.plot_outputs[0]\n",
    "df = ui.df\n",
    "with output:\n",
    "    fig, ax = plt.subplots()\n",
    "    line = ax.plot(df[\"ts\"], df[\"cellular_strength\"])\n",
    "    ax.set_title(\"LTE\")\n",
    "    ax.set_ylabel(\"Strength [%]\")\n",
    "    ax.set_xlabel(\"Time\")\n",
    "    plt.show(fig)"
   ]
  },
  {
   "cell_type": "code",
   "execution_count": 38,
   "metadata": {},
   "outputs": [
    {
     "name": "stdout",
     "output_type": "stream",
     "text": [
      "draw\n",
      "draw_lte\n"
     ]
    }
   ],
   "source": [
    "ui.draw()"
   ]
  },
  {
   "cell_type": "code",
   "execution_count": 56,
   "metadata": {},
   "outputs": [
    {
     "data": {
      "application/vnd.jupyter.widget-view+json": {
       "model_id": "3d2c1e37c004442db6865483d0200b4a",
       "version_major": 2,
       "version_minor": 0
      },
      "text/plain": [
       "MetricsUi(children=(Box(children=(DatetimePicker(value=datetime.datetime(2022, 9, 6, 8, 0, tzinfo=datetime.tim…"
      ]
     },
     "metadata": {},
     "output_type": "display_data"
    }
   ],
   "source": [
    "display(ui)"
   ]
  },
  {
   "cell_type": "code",
   "execution_count": null,
   "metadata": {},
   "outputs": [],
   "source": []
  }
 ],
 "metadata": {
  "kernelspec": {
   "display_name": "Python 3 (ipykernel)",
   "language": "python",
   "name": "python3"
  },
  "language_info": {
   "codemirror_mode": {
    "name": "ipython",
    "version": 3
   },
   "file_extension": ".py",
   "mimetype": "text/x-python",
   "name": "python",
   "nbconvert_exporter": "python",
   "pygments_lexer": "ipython3",
   "version": "3.9.0"
  },
  "vscode": {
   "interpreter": {
    "hash": "81794d4967e6c3204c66dcd87b604927b115b27c00565d3d43f05ba2f3a2cb0d"
   }
  }
 },
 "nbformat": 4,
 "nbformat_minor": 4
}
