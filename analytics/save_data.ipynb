{
 "cells": [
  {
   "cell_type": "code",
   "execution_count": 2,
   "metadata": {},
   "outputs": [],
   "source": [
    "%matplotlib widget\n",
    "%load_ext autoreload\n",
    "%autoreload 2\n",
    "%gui asyncio\n",
    "\n",
    "import metrics_ui.loader as mloader\n",
    "import sensors_ui.loader as sloader\n",
    "import datetime\n",
    "import pandas as pd\n",
    "from account import *\n",
    "\n",
    "\n",
    "def make_filename(prefix, start_time, end_time):\n",
    "    stime = start_time.strftime(\"%Y%m%dT%H%M%S\")\n",
    "    etime = end_time.strftime(\"%Y%m%dT%H%M%S\")\n",
    "    return \"data/%s-%s-%s.df\" % (prefix, stime, etime)\n"
   ]
  },
  {
   "cell_type": "code",
   "execution_count": 3,
   "metadata": {},
   "outputs": [
    {
     "name": "stdout",
     "output_type": "stream",
     "text": [
      "loaded 31 rows\n",
      "saved sensors to data/sensors-20220914T000000-20220914T100000.df\n",
      "loaded 1108 rows\n",
      "saved metrics to data/metrics-20220914T000000-20220914T100000.df\n"
     ]
    }
   ],
   "source": [
    "START_TIME = \"2022-09-14T00:00:00+02:00\"\n",
    "TIME_RANGE = datetime.timedelta(hours=10)\n",
    "start =datetime.datetime.fromisoformat(START_TIME)\n",
    "end = start + TIME_RANGE\n",
    "\n",
    "make_filename(\"metrics\", start, end)\n",
    "sdf = await sloader.nats_stream_fetch( SERVER, NATS_CREDS, STREAM_NAME, EXPORT_SUBJECT_SENSORS, start, start + TIME_RANGE)\n",
    "sfile = make_filename(\"sensors\", start, end)\n",
    "print(\"loaded %d rows\" % sdf.shape[0])\n",
    "sdf.to_pickle(sfile)\n",
    "print(\"saved sensors to %s\" % sfile)\n",
    "\n",
    "make_filename(\"metrics\", start, end)\n",
    "mdf = await mloader.nats_stream_fetch( SERVER, NATS_CREDS, STREAM_NAME, EXPORT_SUBJECT_METRICS, start, start + TIME_RANGE)\n",
    "mfile = make_filename(\"metrics\", start, end)\n",
    "print(\"loaded %d rows\" % mdf.shape[0])\n",
    "mdf.to_pickle(mfile)\n",
    "print(\"saved metrics to %s\" % mfile)\n",
    "\n"
   ]
  },
  {
   "cell_type": "code",
   "execution_count": null,
   "metadata": {},
   "outputs": [],
   "source": []
  }
 ],
 "metadata": {
  "kernelspec": {
   "display_name": "Python 3 (ipykernel)",
   "language": "python",
   "name": "python3"
  },
  "language_info": {
   "codemirror_mode": {
    "name": "ipython",
    "version": 3
   },
   "file_extension": ".py",
   "mimetype": "text/x-python",
   "name": "python",
   "nbconvert_exporter": "python",
   "pygments_lexer": "ipython3",
   "version": "3.9.0"
  },
  "vscode": {
   "interpreter": {
    "hash": "81794d4967e6c3204c66dcd87b604927b115b27c00565d3d43f05ba2f3a2cb0d"
   }
  }
 },
 "nbformat": 4,
 "nbformat_minor": 4
}
