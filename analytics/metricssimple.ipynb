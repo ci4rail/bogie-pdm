{
 "cells": [
  {
   "cell_type": "code",
   "execution_count": 23,
   "metadata": {},
   "outputs": [
    {
     "name": "stdout",
     "output_type": "stream",
     "text": [
      "The autoreload extension is already loaded. To reload it, use:\n",
      "  %reload_ext autoreload\n"
     ]
    }
   ],
   "source": [
    "%matplotlib widget\n",
    "%load_ext autoreload\n",
    "%autoreload 2\n",
    "%gui asyncio\n",
    "\n",
    "import metrics_ui.loader as loader\n",
    "import metrics_ui.simple_ui as ui\n",
    "import datetime\n",
    "import matplotlib\n",
    "import pandas as pd\n",
    "matplotlib.rc('font', family='Bahnschrift') \n",
    "\n",
    "SERVER=\"nats://dbs001.edgefarm.dev:4222\"\n",
    "EXPORT_SUBJECT = \"agilis-mc-1.EXPORT.metrics\"\n",
    "STREAM_NAME = \"bogie-network_export-stream-aggregate\"\n",
    "NATS_CREDS = \"user.creds\""
   ]
  },
  {
   "cell_type": "code",
   "execution_count": 36,
   "metadata": {},
   "outputs": [
    {
     "name": "stdout",
     "output_type": "stream",
     "text": [
      "Dataset starting 2022-09-10 08:37:32.068716+02:00  nats rx 2022-09-10 08:37:32.192369\n",
      "<class 'pandas._libs.tslibs.timestamps.Timestamp'> <class 'float'>\n"
     ]
    },
    {
     "ename": "TypeError",
     "evalue": "must be real number, not Timestamp",
     "output_type": "error",
     "traceback": [
      "\u001b[1;31m---------------------------------------------------------------------------\u001b[0m",
      "\u001b[1;31mTypeError\u001b[0m                                 Traceback (most recent call last)",
      "Input \u001b[1;32mIn [36]\u001b[0m, in \u001b[0;36m<cell line: 11>\u001b[1;34m()\u001b[0m\n\u001b[0;32m      6\u001b[0m \u001b[38;5;66;03m#df = await loader.nats_stream_fetch( SERVER, NATS_CREDS, STREAM_NAME, EXPORT_SUBJECT, start, start + TIME_RANGE)\u001b[39;00m\n\u001b[0;32m      7\u001b[0m \u001b[38;5;66;03m#print(\"loaded %d rows\" % df.shape[0])\u001b[39;00m\n\u001b[0;32m      8\u001b[0m \u001b[38;5;66;03m#df.to_pickle(\"df1\") \u001b[39;00m\n\u001b[0;32m     10\u001b[0m df \u001b[38;5;241m=\u001b[39m pd\u001b[38;5;241m.\u001b[39mread_pickle(\u001b[38;5;124m\"\u001b[39m\u001b[38;5;124mdf1\u001b[39m\u001b[38;5;124m\"\u001b[39m)\n\u001b[1;32m---> 11\u001b[0m the_ui \u001b[38;5;241m=\u001b[39m \u001b[43mui\u001b[49m\u001b[38;5;241;43m.\u001b[39;49m\u001b[43mMetricsUi\u001b[49m\u001b[43m(\u001b[49m\u001b[43mdf\u001b[49m\u001b[43m)\u001b[49m\n\u001b[0;32m     12\u001b[0m display(the_ui)\n",
      "File \u001b[1;32mD:\\work\\bogie-pdm\\analytics\\metrics_ui\\simple_ui.py:91\u001b[0m, in \u001b[0;36mMetricsUi.__init__\u001b[1;34m(self, df)\u001b[0m\n\u001b[0;32m     86\u001b[0m \u001b[38;5;28mself\u001b[39m\u001b[38;5;241m.\u001b[39mhover_control \u001b[38;5;241m=\u001b[39m ipyleaflet\u001b[38;5;241m.\u001b[39mWidgetControl(\n\u001b[0;32m     87\u001b[0m     widget\u001b[38;5;241m=\u001b[39m\u001b[38;5;28mself\u001b[39m\u001b[38;5;241m.\u001b[39mtooltip_html, position\u001b[38;5;241m=\u001b[39m\u001b[38;5;124m\"\u001b[39m\u001b[38;5;124mbottomright\u001b[39m\u001b[38;5;124m\"\u001b[39m\n\u001b[0;32m     88\u001b[0m )\n\u001b[0;32m     89\u001b[0m \u001b[38;5;28mself\u001b[39m\u001b[38;5;241m.\u001b[39mmap\u001b[38;5;241m.\u001b[39madd_control(\u001b[38;5;28mself\u001b[39m\u001b[38;5;241m.\u001b[39mhover_control)\n\u001b[1;32m---> 91\u001b[0m \u001b[38;5;28;43mself\u001b[39;49m\u001b[38;5;241;43m.\u001b[39;49m\u001b[43mtab_change\u001b[49m\u001b[43m(\u001b[49m\u001b[38;5;241;43m0\u001b[39;49m\u001b[43m)\u001b[49m\n\u001b[0;32m     92\u001b[0m \u001b[38;5;28mself\u001b[39m\u001b[38;5;241m.\u001b[39mchildren \u001b[38;5;241m=\u001b[39m [\u001b[38;5;28mmap\u001b[39m, tab]\n",
      "File \u001b[1;32mD:\\work\\bogie-pdm\\analytics\\metrics_ui\\simple_ui.py:104\u001b[0m, in \u001b[0;36mMetricsUi.tab_change\u001b[1;34m(self, tabnum)\u001b[0m\n\u001b[0;32m    102\u001b[0m l \u001b[38;5;241m=\u001b[39m \u001b[38;5;28;01mNone\u001b[39;00m\n\u001b[0;32m    103\u001b[0m \u001b[38;5;28;01mif\u001b[39;00m tabnum \u001b[38;5;241m==\u001b[39m \u001b[38;5;241m0\u001b[39m:\n\u001b[1;32m--> 104\u001b[0m     l \u001b[38;5;241m=\u001b[39m \u001b[38;5;28;43mself\u001b[39;49m\u001b[38;5;241;43m.\u001b[39;49m\u001b[43mlte_strength_layer_for_map\u001b[49m\u001b[43m(\u001b[49m\u001b[43m)\u001b[49m\n\u001b[0;32m    105\u001b[0m \u001b[38;5;66;03m# elif tabnum == 1:\u001b[39;00m\n\u001b[0;32m    106\u001b[0m \u001b[38;5;66;03m#     self.render_acc_on_map()\u001b[39;00m\n\u001b[0;32m    107\u001b[0m \u001b[38;5;28;01melif\u001b[39;00m tabnum \u001b[38;5;241m==\u001b[39m \u001b[38;5;241m2\u001b[39m:\n",
      "File \u001b[1;32mD:\\work\\bogie-pdm\\analytics\\metrics_ui\\simple_ui.py:186\u001b[0m, in \u001b[0;36mMetricsUi.lte_strength_layer_for_map\u001b[1;34m(self)\u001b[0m\n\u001b[0;32m    177\u001b[0m locations \u001b[38;5;241m=\u001b[39m (\n\u001b[0;32m    178\u001b[0m     \u001b[38;5;28mself\u001b[39m\u001b[38;5;241m.\u001b[39mdframe[[\u001b[38;5;124m\"\u001b[39m\u001b[38;5;124mts\u001b[39m\u001b[38;5;124m\"\u001b[39m, \u001b[38;5;124m\"\u001b[39m\u001b[38;5;124mgnss_lat\u001b[39m\u001b[38;5;124m\"\u001b[39m, \u001b[38;5;124m\"\u001b[39m\u001b[38;5;124mgnss_lon\u001b[39m\u001b[38;5;124m\"\u001b[39m, \u001b[38;5;124m\"\u001b[39m\u001b[38;5;124mcellular_strength\u001b[39m\u001b[38;5;124m\"\u001b[39m]]\n\u001b[0;32m    179\u001b[0m     \u001b[38;5;241m.\u001b[39mdropna()\n\u001b[0;32m    180\u001b[0m     \u001b[38;5;241m.\u001b[39mvalues\u001b[38;5;241m.\u001b[39mtolist()\n\u001b[0;32m    181\u001b[0m )\n\u001b[0;32m    183\u001b[0m \u001b[38;5;28mprint\u001b[39m(\u001b[38;5;28mtype\u001b[39m(locations[\u001b[38;5;241m0\u001b[39m][\u001b[38;5;241m0\u001b[39m]), \u001b[38;5;28mtype\u001b[39m(locations[\u001b[38;5;241m0\u001b[39m][\u001b[38;5;241m1\u001b[39m]))\n\u001b[0;32m    185\u001b[0m g \u001b[38;5;241m=\u001b[39m ipyleaflet\u001b[38;5;241m.\u001b[39mGeoJSON(\n\u001b[1;32m--> 186\u001b[0m     data\u001b[38;5;241m=\u001b[39m\u001b[43mmake_geojson\u001b[49m\u001b[43m(\u001b[49m\u001b[43mlocations\u001b[49m\u001b[43m)\u001b[49m,\n\u001b[0;32m    187\u001b[0m     style\u001b[38;5;241m=\u001b[39m{\u001b[38;5;124m\"\u001b[39m\u001b[38;5;124mopacity\u001b[39m\u001b[38;5;124m\"\u001b[39m: \u001b[38;5;241m0.8\u001b[39m, \u001b[38;5;124m\"\u001b[39m\u001b[38;5;124mweight\u001b[39m\u001b[38;5;124m\"\u001b[39m: \u001b[38;5;241m5\u001b[39m},\n\u001b[0;32m    188\u001b[0m     style_callback\u001b[38;5;241m=\u001b[39m\u001b[38;5;28mself\u001b[39m\u001b[38;5;241m.\u001b[39mstyle_callback_lte,\n\u001b[0;32m    189\u001b[0m )\n\u001b[0;32m    190\u001b[0m g\u001b[38;5;241m.\u001b[39mon_hover(\u001b[38;5;28mself\u001b[39m\u001b[38;5;241m.\u001b[39moverlay_on_hover)\n\u001b[0;32m    191\u001b[0m \u001b[38;5;28;01mreturn\u001b[39;00m g\n",
      "File \u001b[1;32mD:\\work\\bogie-pdm\\analytics\\metrics_ui\\simple_ui.py:38\u001b[0m, in \u001b[0;36mmake_geojson\u001b[1;34m(locations)\u001b[0m\n\u001b[0;32m     25\u001b[0m         this_loc \u001b[38;5;241m=\u001b[39m locations[i]\n\u001b[0;32m     26\u001b[0m         prev_loc \u001b[38;5;241m=\u001b[39m locations[i \u001b[38;5;241m-\u001b[39m \u001b[38;5;241m1\u001b[39m]\n\u001b[0;32m     28\u001b[0m         features\u001b[38;5;241m.\u001b[39mappend(\n\u001b[0;32m     29\u001b[0m             {\n\u001b[0;32m     30\u001b[0m                 \u001b[38;5;124m\"\u001b[39m\u001b[38;5;124mtype\u001b[39m\u001b[38;5;124m\"\u001b[39m: \u001b[38;5;124m\"\u001b[39m\u001b[38;5;124mFeature\u001b[39m\u001b[38;5;124m\"\u001b[39m,\n\u001b[0;32m     31\u001b[0m                 \u001b[38;5;124m\"\u001b[39m\u001b[38;5;124mgeometry\u001b[39m\u001b[38;5;124m\"\u001b[39m: {\n\u001b[0;32m     32\u001b[0m                     \u001b[38;5;124m\"\u001b[39m\u001b[38;5;124mtype\u001b[39m\u001b[38;5;124m\"\u001b[39m: \u001b[38;5;124m\"\u001b[39m\u001b[38;5;124mLineString\u001b[39m\u001b[38;5;124m\"\u001b[39m,\n\u001b[0;32m     33\u001b[0m                     \u001b[38;5;124m\"\u001b[39m\u001b[38;5;124mcoordinates\u001b[39m\u001b[38;5;124m\"\u001b[39m: [\n\u001b[0;32m     34\u001b[0m                         [prev_loc[\u001b[38;5;241m2\u001b[39m], prev_loc[\u001b[38;5;241m1\u001b[39m]],\n\u001b[0;32m     35\u001b[0m                         [this_loc[\u001b[38;5;241m2\u001b[39m], this_loc[\u001b[38;5;241m1\u001b[39m]],\n\u001b[0;32m     36\u001b[0m                     ],\n\u001b[0;32m     37\u001b[0m                 },\n\u001b[1;32m---> 38\u001b[0m                 \u001b[38;5;124m\"\u001b[39m\u001b[38;5;124mproperties\u001b[39m\u001b[38;5;124m\"\u001b[39m: {\u001b[38;5;124m\"\u001b[39m\u001b[38;5;124mvalue\u001b[39m\u001b[38;5;124m\"\u001b[39m: this_loc[\u001b[38;5;241m3\u001b[39m], \u001b[38;5;124m\"\u001b[39m\u001b[38;5;124mts\u001b[39m\u001b[38;5;124m\"\u001b[39m: \u001b[38;5;124;43m\"\u001b[39;49m\u001b[38;5;132;43;01m%.2f\u001b[39;49;00m\u001b[38;5;124;43m\"\u001b[39;49m\u001b[43m \u001b[49m\u001b[38;5;241;43m%\u001b[39;49m\u001b[43m \u001b[49m\u001b[43mthis_loc\u001b[49m\u001b[43m[\u001b[49m\u001b[38;5;241;43m0\u001b[39;49m\u001b[43m]\u001b[49m},\n\u001b[0;32m     39\u001b[0m             }\n\u001b[0;32m     40\u001b[0m         )\n\u001b[0;32m     41\u001b[0m \u001b[38;5;28;01mreturn\u001b[39;00m {\u001b[38;5;124m\"\u001b[39m\u001b[38;5;124mtype\u001b[39m\u001b[38;5;124m\"\u001b[39m: \u001b[38;5;124m\"\u001b[39m\u001b[38;5;124mFeatureCollection\u001b[39m\u001b[38;5;124m\"\u001b[39m, \u001b[38;5;124m\"\u001b[39m\u001b[38;5;124mfeatures\u001b[39m\u001b[38;5;124m\"\u001b[39m: features}\n",
      "\u001b[1;31mTypeError\u001b[0m: must be real number, not Timestamp"
     ]
    }
   ],
   "source": [
    "START_TIME = \"2022-09-10T08:00:00+02:00\"\n",
    "TIME_RANGE = datetime.timedelta(minutes=600)\n",
    "\n",
    "start =datetime.datetime.fromisoformat(START_TIME)\n",
    "\n",
    "#df = await loader.nats_stream_fetch( SERVER, NATS_CREDS, STREAM_NAME, EXPORT_SUBJECT, start, start + TIME_RANGE)\n",
    "#print(\"loaded %d rows\" % df.shape[0])\n",
    "#df.to_pickle(\"df1\") \n",
    "\n",
    "df = pd.read_pickle(\"df1\")\n",
    "the_ui = ui.MetricsUi(df)\n",
    "display(the_ui)"
   ]
  },
  {
   "cell_type": "code",
   "execution_count": null,
   "metadata": {},
   "outputs": [],
   "source": []
  }
 ],
 "metadata": {
  "kernelspec": {
   "display_name": "Python 3 (ipykernel)",
   "language": "python",
   "name": "python3"
  },
  "language_info": {
   "codemirror_mode": {
    "name": "ipython",
    "version": 3
   },
   "file_extension": ".py",
   "mimetype": "text/x-python",
   "name": "python",
   "nbconvert_exporter": "python",
   "pygments_lexer": "ipython3",
   "version": "3.9.0"
  },
  "vscode": {
   "interpreter": {
    "hash": "81794d4967e6c3204c66dcd87b604927b115b27c00565d3d43f05ba2f3a2cb0d"
   }
  }
 },
 "nbformat": 4,
 "nbformat_minor": 4
}
